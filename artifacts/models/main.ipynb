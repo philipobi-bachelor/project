{
 "cells": [
  {
   "cell_type": "code",
   "execution_count": null,
   "id": "df038cec",
   "metadata": {},
   "outputs": [],
   "source": [
    "import pandas as pd\n",
    "\n",
    "[df] = pd.read_html(\"livebench.html\")"
   ]
  },
  {
   "cell_type": "code",
   "execution_count": null,
   "id": "a7dc3f41",
   "metadata": {},
   "outputs": [],
   "source": [
    "cols = tuple(df.columns)\n",
    "textCols, numericalCols = (cols[:2], cols[2:])\n",
    "dfRanked = df.transform(\n",
    "    dict.fromkeys(textCols, lambda x:x) |\n",
    "    dict.fromkeys(numericalCols, lambda x: pd.Series.rank(x, method=\"min\", ascending=False).astype(int)),\n",
    ")\n",
    "dfRanked"
   ]
  },
  {
   "cell_type": "code",
   "execution_count": null,
   "id": "a292c4d9",
   "metadata": {},
   "outputs": [],
   "source": []
  }
 ],
 "metadata": {
  "language_info": {
   "name": "python"
  }
 },
 "nbformat": 4,
 "nbformat_minor": 5
}
