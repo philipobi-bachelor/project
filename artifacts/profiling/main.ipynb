{
 "cells": [
  {
   "cell_type": "code",
   "execution_count": null,
   "id": "e3b1b7cf",
   "metadata": {},
   "outputs": [],
   "source": [
    "from arango import ArangoClient\n",
    "client = ArangoClient(hosts=\"http://localhost:8529\")\n",
    "sys_db = client.db(\"_system\")"
   ]
  },
  {
   "cell_type": "code",
   "execution_count": null,
   "id": "f1443336",
   "metadata": {},
   "outputs": [],
   "source": [
    "db = client.db(\"profiling\")"
   ]
  },
  {
   "cell_type": "code",
   "execution_count": null,
   "id": "672d8dbb",
   "metadata": {},
   "outputs": [],
   "source": [
    "coll = db.collection(\"events\")"
   ]
  },
  {
   "cell_type": "code",
   "execution_count": null,
   "id": "ed278159",
   "metadata": {},
   "outputs": [],
   "source": [
    "hooks = [\n",
    "    \"SequentialVertexFitter::\",\n",
    "    \"rave::VertexFactory::\",\n",
    "    \"NewV0Fitter::\",\n",
    "    \"genfit::GFRaveVertexFactory::\",\n",
    "    \"V0FinderModule::\",\n",
    "]"
   ]
  },
  {
   "cell_type": "code",
   "execution_count": null,
   "id": "b258c152",
   "metadata": {},
   "outputs": [],
   "source": [
    "from collections import defaultdict\n",
    "from utils import readlines_reversed\n",
    "\n",
    "def check_line(line, hooks):\n",
    "    for s in hooks:\n",
    "        if s in line:\n",
    "            return True\n",
    "    return False\n",
    "\n",
    "def flush(lst, db_coll):\n",
    "    db_coll.insert_many(lst, silent=True)\n",
    "\n",
    "def log_extract(filepath, db_coll):\n",
    "    queue = []\n",
    "    size = 200\n",
    "    event = None\n",
    "    i = 0\n",
    "    for line in filter(\n",
    "        lambda l: check_line(l, hooks),\n",
    "        readlines_reversed(filepath)\n",
    "    ):\n",
    "        [_, fname, t_str, *_] = line.split()\n",
    "        if \"event\" in fname:\n",
    "            if event is not None:\n",
    "                queue.append(event)\n",
    "                i+=1\n",
    "            \n",
    "            if i == size:\n",
    "                flush(queue, db_coll)\n",
    "                queue = []\n",
    "                i = 0\n",
    "            \n",
    "            event = defaultdict(list)\n",
    "        \n",
    "        event[fname].append(float(t_str))\n",
    "    \n",
    "    flush(queue, db_coll)\n",
    "\n",
    "        \n",
    "                \n",
    "            "
   ]
  },
  {
   "cell_type": "code",
   "execution_count": null,
   "id": "f1792555",
   "metadata": {},
   "outputs": [],
   "source": [
    "log_extract(\n",
    "    \"/home/p/Philip.Obi/b2/results/current/tracking/\"\n",
    "    \"v0ValidationGenerateSample.py.log\", \n",
    "    coll\n",
    ")"
   ]
  },
  {
   "cell_type": "code",
   "execution_count": null,
   "id": "9477d991",
   "metadata": {},
   "outputs": [],
   "source": []
  }
 ],
 "metadata": {
  "language_info": {
   "name": "python"
  }
 },
 "nbformat": 4,
 "nbformat_minor": 5
}
