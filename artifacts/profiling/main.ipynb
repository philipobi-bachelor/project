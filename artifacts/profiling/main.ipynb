{
 "cells": [
  {
   "cell_type": "code",
   "execution_count": null,
   "id": "4e8d80ab",
   "metadata": {},
   "outputs": [],
   "source": [
    "import numpy as np\n",
    "import awkward as ak\n",
    "import pandas as pd\n",
    "from collections import defaultdict\n",
    "from utils import readlinesReversed, Table, Col"
   ]
  },
  {
   "cell_type": "code",
   "execution_count": null,
   "id": "ed278159",
   "metadata": {},
   "outputs": [],
   "source": [
    "hooks = [\n",
    "    \"SequentialVertexFitter::\",\n",
    "    \"rave::VertexFactory::\",\n",
    "    \"NewV0Fitter::\",\n",
    "    \"genfit::GFRaveVertexFactory::\",\n",
    "    \"V0FinderModule::\",\n",
    "]"
   ]
  },
  {
   "cell_type": "code",
   "execution_count": null,
   "id": "b258c152",
   "metadata": {},
   "outputs": [],
   "source": [
    "\n",
    "\n",
    "def checkLine(line, hooks):\n",
    "    for s in hooks:\n",
    "        if s in line:\n",
    "            return True\n",
    "    return False\n",
    "\n",
    "def logExtract(filepath):\n",
    "    events = []\n",
    "    event = None\n",
    "    i = 0\n",
    "    for line in filter(\n",
    "        lambda l: checkLine(l, hooks),\n",
    "        readlinesReversed(filepath)\n",
    "    ):\n",
    "        [_, fname, *_, t_str, _] = line.split(\" \")\n",
    "        if \"event\" in fname:\n",
    "            if event is not None:\n",
    "                events.append(event)\n",
    "                i+=1\n",
    "            \n",
    "            event = defaultdict(list)\n",
    "        \n",
    "        event[fname].append(float(t_str))\n",
    "    \n",
    "    if event is not None:\n",
    "        events.append(event)\n",
    "\n",
    "    return events"
   ]
  },
  {
   "cell_type": "code",
   "execution_count": null,
   "id": "f1792555",
   "metadata": {},
   "outputs": [],
   "source": [
    "eventInfos= logExtract(\n",
    "    \"v0finder-validation.log\", \n",
    ")"
   ]
  },
  {
   "cell_type": "code",
   "execution_count": null,
   "id": "c4e70690",
   "metadata": {},
   "outputs": [],
   "source": [
    "arr = ak.Array(eventInfos)"
   ]
  },
  {
   "cell_type": "code",
   "execution_count": null,
   "id": "f8477dab",
   "metadata": {},
   "outputs": [],
   "source": [
    "event = \"V0FinderModule::event\"\n",
    "fields = (event,) + tuple(filter(lambda field: field != event, arr.fields))\n",
    "npy = np.hstack(\n",
    "    tuple(\n",
    "        ak.to_numpy(\n",
    "            ak.sum(\n",
    "                ak.fill_none(\n",
    "                    arr[field],\n",
    "                    [],\n",
    "                    0,\n",
    "                ),\n",
    "                axis=-1,\n",
    "            )\n",
    "        ).reshape(-1, 1)\n",
    "        for field in fields\n",
    "    )\n",
    ")"
   ]
  },
  {
   "cell_type": "code",
   "execution_count": null,
   "id": "a3c08c58",
   "metadata": {},
   "outputs": [],
   "source": [
    "npy[:, 1:] /= npy[:, :1]"
   ]
  },
  {
   "cell_type": "code",
   "execution_count": null,
   "id": "b7ef789b",
   "metadata": {},
   "outputs": [],
   "source": [
    "df = pd.DataFrame(data=npy, columns=fields)"
   ]
  },
  {
   "cell_type": "code",
   "execution_count": null,
   "id": "5969e458",
   "metadata": {},
   "outputs": [],
   "source": [
    "stats = df.describe().T.drop(\"count\", axis=\"columns\")\n",
    "stats"
   ]
  },
  {
   "cell_type": "code",
   "execution_count": null,
   "id": "703a6334",
   "metadata": {},
   "outputs": [],
   "source": [
    "colTitles = (\"\",) +  tuple(stats.columns.tolist())\n",
    "rowTitles = tuple(stats.index.tolist())\n",
    "data = stats.to_numpy().tolist()"
   ]
  },
  {
   "cell_type": "code",
   "execution_count": null,
   "id": "fad9a632",
   "metadata": {},
   "outputs": [],
   "source": [
    "Table.defs.append(r\"\\providecommand{\\rtms}[1]{}\")\n",
    "Table.defs.append(r\"\\renewcommand{\\rtms}[1]{\\SI{#1}{\\milli\\second}}\")\n",
    "\n",
    "fmtPercent = lambda val: f\"{val:.1%}\".replace(\"%\", r\"\\%\")\n",
    "fmtTime = lambda val: r\"\\rtms{\" f\"{val:.1f}\" + \"}\"\n",
    "rowFmt = (fmtTime,) + 4 * (fmtPercent,)\n",
    "cols = tuple(\n",
    "    Col(name=colTitle, rows=rows, colType=\"r\")\n",
    "    for colTitle, rows in zip(\n",
    "        colTitles,\n",
    "        zip(\n",
    "            *(\n",
    "                (rowTitle,) + tuple(fmt(val) for val in row)\n",
    "                for rowTitle, row, fmt in zip(rowTitles, data, rowFmt, strict=True)\n",
    "            )\n",
    "        ),\n",
    "    )\n",
    ")\n",
    "table = Table(*cols, colLines=True, rowLines=True)"
   ]
  },
  {
   "cell_type": "code",
   "execution_count": null,
   "id": "dd8bccc0",
   "metadata": {},
   "outputs": [],
   "source": [
    "print(table.render())"
   ]
  },
  {
   "cell_type": "code",
   "execution_count": null,
   "id": "5cad2d6c",
   "metadata": {},
   "outputs": [],
   "source": [
    "matrix = [\n",
    "    [1,2,],\n",
    "    [3,4,],\n",
    "]\n",
    "\n",
    "list(zip(*matrix))"
   ]
  },
  {
   "cell_type": "code",
   "execution_count": null,
   "id": "434a4eb0",
   "metadata": {},
   "outputs": [],
   "source": []
  }
 ],
 "metadata": {
  "language_info": {
   "name": "python"
  }
 },
 "nbformat": 4,
 "nbformat_minor": 5
}
