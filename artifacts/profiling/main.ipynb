{
 "cells": [
  {
   "cell_type": "code",
   "execution_count": null,
   "id": "e3b1b7cf",
   "metadata": {},
   "outputs": [],
   "source": [
    "from arango import ArangoClient\n",
    "client = ArangoClient(hosts=\"http://localhost:8529\")"
   ]
  },
  {
   "cell_type": "code",
   "execution_count": null,
   "id": "f1443336",
   "metadata": {},
   "outputs": [],
   "source": [
    "db = client.db()"
   ]
  },
  {
   "cell_type": "code",
   "execution_count": null,
   "id": "99b75964",
   "metadata": {},
   "outputs": [],
   "source": [
    "coll = db.collection(\"test-events\")"
   ]
  },
  {
   "cell_type": "code",
   "execution_count": null,
   "id": "230f1a2c",
   "metadata": {},
   "outputs": [],
   "source": [
    "coll.insert_many"
   ]
  }
 ],
 "metadata": {
  "language_info": {
   "name": "python"
  }
 },
 "nbformat": 4,
 "nbformat_minor": 5
}
