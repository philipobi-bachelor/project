{
 "cells": [
  {
   "cell_type": "code",
   "execution_count": null,
   "id": "e3b1b7cf",
   "metadata": {},
   "outputs": [],
   "source": [
    "from arango import ArangoClient\n",
    "client = ArangoClient(hosts=\"http://localhost:8529\")\n",
    "sys_db = client.db(\"_system\")"
   ]
  },
  {
   "cell_type": "code",
   "execution_count": null,
   "id": "f1443336",
   "metadata": {},
   "outputs": [],
   "source": [
    "db = client.db(\"test-profiling\")"
   ]
  },
  {
   "cell_type": "code",
   "execution_count": null,
   "id": "064418a6",
   "metadata": {},
   "outputs": [],
   "source": [
    "class Function:\n",
    "    db = None\n",
    "    call_edges = None\n",
    "    lookups = {}\n",
    "    \n",
    "    @classmethod\n",
    "    def clear_colls(cls):\n",
    "        for fn in cls.lookups.values():\n",
    "            fn.coll.delete_match({})\n",
    "        cls.call_edges.delete_match({})\n",
    "\n",
    "    def __init__(self, name, *calls):\n",
    "        self.coll = (\n",
    "            self.db.collection(name) \n",
    "            if self.db.has_collection(name) \n",
    "            else self.db.create_collection(name)\n",
    "    )\n",
    "        self._id = None\n",
    "        self.caller = None\n",
    "        self.lookups[name] = self\n",
    "        for fn in calls:\n",
    "            fn.caller = self\n",
    "    \n",
    "    def store_log_entry(self, **doc):\n",
    "        self._id = self.coll.insert(doc)[\"_id\"]\n",
    "        if self.caller is not None:\n",
    "            self.call_edges.insert({\n",
    "                \"_from\" : self.caller._id,\n",
    "                \"_to\" : self._id\n",
    "            })"
   ]
  },
  {
   "cell_type": "code",
   "execution_count": null,
   "id": "f15bb4ef",
   "metadata": {},
   "outputs": [],
   "source": [
    "Function.db = db\n",
    "Function.call_edges = db.collection(\"callsFunc\")"
   ]
  },
  {
   "cell_type": "code",
   "execution_count": null,
   "id": "da179b56",
   "metadata": {},
   "outputs": [],
   "source": [
    "Function(\"event\", \n",
    "    Function(\"fitAndStore\",\n",
    "        Function(\"vertexFit\",\n",
    "             Function(\"fitGFRaveVertex\")\n",
    "        ),\n",
    "        Function(\"removeHitsAndRefit\")\n",
    "    )\n",
    ")"
   ]
  },
  {
   "cell_type": "code",
   "execution_count": null,
   "id": "818a77b1",
   "metadata": {},
   "outputs": [],
   "source": [
    "Function.clear_colls()"
   ]
  },
  {
   "cell_type": "code",
   "execution_count": null,
   "id": "b258c152",
   "metadata": {},
   "outputs": [],
   "source": [
    "def log_extract(filepath):\n",
    "    from utils import readlines_reversed\n",
    "    fns = Function.lookups\n",
    "    normal = [\"event\", \"vertexFit\", \"fitGFRaveVertex\", \"removeHitsAndRefit\"]\n",
    "    for line in filter(\n",
    "        lambda s: \"NewV0Fitter::\" in s or \"V0FinderModule::\" in s,\n",
    "        readlines_reversed(filepath)\n",
    "    ):\n",
    "        tokens = line.split()[2:]\n",
    "        for k in normal:\n",
    "            if k in line:\n",
    "                print(k)\n",
    "                [t, *_] = tokens\n",
    "                fns[k].store_log_entry(t=float(t))\n",
    "                break\n",
    "        if (k:=\"fitAndStore\") in line:\n",
    "            [_, ptype, t, *_] = tokens\n",
    "            fns[k].store_log_entry(ptype=ptype[:-1], t=float(t))"
   ]
  },
  {
   "cell_type": "code",
   "execution_count": null,
   "id": "f1792555",
   "metadata": {},
   "outputs": [],
   "source": [
    "log_extract(\"v0finder-validation.log\")"
   ]
  },
  {
   "cell_type": "code",
   "execution_count": null,
   "id": "6f74c652",
   "metadata": {},
   "outputs": [],
   "source": [
    "event = {\n",
    "    \"t\" : 0,\n",
    "    \"fitAndStore\" : [\n",
    "        {\n",
    "            \"t\" : 0,\n",
    "            \"ptype\" : \"\",\n",
    "            \n",
    "            \"vertexFit\" : [\n",
    "                {\n",
    "                    \"t\" : 0,\n",
    "                    \"fitGFRaveVertex\":\"\",\n",
    "                }\n",
    "            ],\n",
    "            \n",
    "            \"removeHitsAndRefit\" : {\n",
    "                \"t\" : 0\n",
    "            }\n",
    "        }\n",
    "    ]\n",
    "}"
   ]
  },
  {
   "cell_type": "code",
   "execution_count": null,
   "id": "c2307e38",
   "metadata": {},
   "outputs": [],
   "source": [
    "db.collections()"
   ]
  },
  {
   "cell_type": "code",
   "execution_count": null,
   "id": "a3e38dd4",
   "metadata": {},
   "outputs": [],
   "source": [
    "coll = db.collection(\"event\")"
   ]
  },
  {
   "cell_type": "code",
   "execution_count": null,
   "id": "cd345f1b",
   "metadata": {},
   "outputs": [],
   "source": [
    "res = coll.insert({\"foo\": \"bar\"})"
   ]
  },
  {
   "cell_type": "code",
   "execution_count": null,
   "id": "4f121a4e",
   "metadata": {},
   "outputs": [],
   "source": [
    "res"
   ]
  },
  {
   "cell_type": "code",
   "execution_count": null,
   "id": "230f1a2c",
   "metadata": {},
   "outputs": [],
   "source": [
    "coll.delete(\"event/4984\")"
   ]
  },
  {
   "cell_type": "code",
   "execution_count": null,
   "id": "32d18ccb",
   "metadata": {},
   "outputs": [],
   "source": [
    "coll.delete_match({})"
   ]
  },
  {
   "cell_type": "code",
   "execution_count": null,
   "id": "e0932518",
   "metadata": {},
   "outputs": [],
   "source": [
    "coll.all().count()"
   ]
  },
  {
   "cell_type": "code",
   "execution_count": null,
   "id": "3c746bc5",
   "metadata": {},
   "outputs": [],
   "source": [
    "\"\"\"\n",
    "FOR e_call in event\n",
    "  LET t_fas = SUM(\n",
    "    FOR fas_call IN 1..1 OUTBOUND e_call callsFunc\n",
    "      RETURN fas_call.t\n",
    "  )\n",
    "  RETURN { t_e : e_call.t , t_fas : t_fas }\n",
    "\"\"\""
   ]
  }
 ],
 "metadata": {
  "language_info": {
   "name": "python"
  }
 },
 "nbformat": 4,
 "nbformat_minor": 5
}
