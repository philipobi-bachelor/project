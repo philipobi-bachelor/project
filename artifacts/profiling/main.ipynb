{
 "cells": [
  {
   "cell_type": "code",
   "execution_count": null,
   "id": "4e8d80ab",
   "metadata": {},
   "outputs": [],
   "source": [
    "import numpy as np\n",
    "import awkward as ak\n",
    "import pandas as pd"
   ]
  },
  {
   "cell_type": "code",
   "execution_count": null,
   "id": "ed278159",
   "metadata": {},
   "outputs": [],
   "source": [
    "hooks = [\n",
    "    \"SequentialVertexFitter::\",\n",
    "    \"rave::VertexFactory::\",\n",
    "    \"NewV0Fitter::\",\n",
    "    \"genfit::GFRaveVertexFactory::\",\n",
    "    \"V0FinderModule::\",\n",
    "]"
   ]
  },
  {
   "cell_type": "code",
   "execution_count": null,
   "id": "b258c152",
   "metadata": {},
   "outputs": [],
   "source": [
    "from collections import defaultdict\n",
    "from utils import readlinesReversed\n",
    "\n",
    "def checkLine(line, hooks):\n",
    "    for s in hooks:\n",
    "        if s in line:\n",
    "            return True\n",
    "    return False\n",
    "\n",
    "def logExtract(filepath):\n",
    "    events = []\n",
    "    event = None\n",
    "    i = 0\n",
    "    for line in filter(\n",
    "        lambda l: checkLine(l, hooks),\n",
    "        readlinesReversed(filepath)\n",
    "    ):\n",
    "        [_, fname, *_, t_str, _] = line.split(\" \")\n",
    "        if \"event\" in fname:\n",
    "            if event is not None:\n",
    "                events.append(event)\n",
    "                i+=1\n",
    "            \n",
    "            event = defaultdict(list)\n",
    "        \n",
    "        event[fname].append(float(t_str))\n",
    "    \n",
    "    if event is not None:\n",
    "        events.append(event)\n",
    "\n",
    "    return events"
   ]
  },
  {
   "cell_type": "code",
   "execution_count": null,
   "id": "f1792555",
   "metadata": {},
   "outputs": [],
   "source": [
    "eventInfos= logExtract(\n",
    "    \"v0finder-validation.log\", \n",
    ")"
   ]
  },
  {
   "cell_type": "code",
   "execution_count": null,
   "id": "c4e70690",
   "metadata": {},
   "outputs": [],
   "source": [
    "arr = ak.Array(eventInfos)"
   ]
  },
  {
   "cell_type": "code",
   "execution_count": null,
   "id": "f8477dab",
   "metadata": {},
   "outputs": [],
   "source": [
    "event = \"V0FinderModule::event\"\n",
    "fields = (event,) + tuple(filter(lambda field: field != event, arr.fields))\n",
    "npy = np.hstack(\n",
    "    tuple(\n",
    "        ak.to_numpy(\n",
    "            ak.sum(\n",
    "                ak.fill_none(\n",
    "                    arr[field],\n",
    "                    [],\n",
    "                    0,\n",
    "                ),\n",
    "                axis=-1,\n",
    "            )\n",
    "        ).reshape(-1, 1)\n",
    "        for field in fields\n",
    "    )\n",
    ")"
   ]
  },
  {
   "cell_type": "code",
   "execution_count": null,
   "id": "a3c08c58",
   "metadata": {},
   "outputs": [],
   "source": [
    "npy[:, 1:] /= npy[:, :1]"
   ]
  },
  {
   "cell_type": "code",
   "execution_count": null,
   "id": "b7ef789b",
   "metadata": {},
   "outputs": [],
   "source": [
    "df = pd.DataFrame(data=npy, columns=fields)"
   ]
  },
  {
   "cell_type": "code",
   "execution_count": null,
   "id": "5969e458",
   "metadata": {},
   "outputs": [],
   "source": [
    "df.describe().T.drop(\"count\", axis=\"columns\")\n"
   ]
  },
  {
   "cell_type": "code",
   "execution_count": null,
   "id": "986b3ac4",
   "metadata": {},
   "outputs": [],
   "source": []
  }
 ],
 "metadata": {
  "language_info": {
   "name": "python"
  }
 },
 "nbformat": 4,
 "nbformat_minor": 5
}
